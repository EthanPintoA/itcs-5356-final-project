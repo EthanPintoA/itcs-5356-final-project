{
  "cells": [
    {
      "cell_type": "markdown",
      "source": [
        "# [Capstone Project] ML for Healthcare\n",
        "\n",
        "\n"
      ],
      "metadata": {
        "id": "MBIPlgwErdKj"
      },
      "id": "MBIPlgwErdKj"
    },
    {
      "cell_type": "markdown",
      "source": [
        "## Introduction\n",
        "\n",
        "You are supposed to program in Python to analyze a real-world dataset.\n",
        "\n",
        "### Rule to complete the assignment\n",
        "The basic rule is to write down your code after Each **TODO** line. There's **no limitation** on what libraries you use, how many lines code you write, how many cells you use in JupyterNotebook, etc.\n",
        "\n",
        "### Grading\n",
        "The grade will be given based on the performance of your model on a testing dataset. Note, this **testing dataset** is private to the instructor and TA. As a student, you don't have access to the test dataset. What you can do is to refine or polish your model based on the **training** and **validation** set. Submit the best model you have."
      ],
      "metadata": {
        "id": "a96DB6WusScU"
      },
      "id": "a96DB6WusScU"
    },
    {
      "cell_type": "markdown",
      "id": "fd8c2c3b",
      "metadata": {
        "id": "fd8c2c3b"
      },
      "source": [
        "# Overview\n",
        "We will delve into the practical application of Artificial Intelligence within the field of healthcare.\n",
        "This lab will include:\n",
        "- Dataset introduction\n",
        "- Preprocessing\n",
        "- Problem definition\n",
        "- Feature engineering\n",
        "- Model selection\n",
        "- Training the model\n",
        "- Validation and hyperparameter tuning\n",
        "- Evaluation metrics\n"
      ]
    },
    {
      "cell_type": "markdown",
      "id": "a6e0d170",
      "metadata": {
        "id": "a6e0d170"
      },
      "source": [
        "## Dataset introduction\n",
        "For this lab, we will take one ECG dataset as example from the UCR Time Series Classification Archive.\n",
        "\n",
        "### **UCR Time Series Classification Archive**  \n",
        "Maintained by the University of California, Riverside (UCR), it is a valuable resource and repository for time series data and related classification problems. This archive is a comprehensive collection of various time series datasets designed specifically for benchmarking and evaluating time series classification algorithms and methods.\n",
        "FYI, the whole UCR raw data download link: https://www.cs.ucr.edu/%7Eeamonn/time_series_data_2018/\n",
        "\n",
        "But in this lab, you don't need it. **Please download the ECG5000 dataset on Canvas under the module of [Lab] Applied AI in Healthcare.**"
      ]
    },
    {
      "cell_type": "markdown",
      "id": "1749d9ac",
      "metadata": {
        "id": "1749d9ac"
      },
      "source": [
        "### **ECG5000**  \n",
        "> The original data set for *ECG5000* is a 20-hour long ECG downloaded from Physionet_ATM [1]. The database is BIDMC Congestive Heart Failure Database(chfdb) and the record is chf07. It was originally published by Goldberger et al. [2]. The data were pre-processed in two steps, first extracting each heartbeat and then making each heartbeat equal length using interpolation. These data were originally used by Chen et al. [3]. After that, 5000 heartbeats were randomly selected to make the current data set. Data were from a patient who has severe congestive heart failure. The class values were obtained by automated annotation.\n",
        "\n",
        ">[1] https://physionet.org/cgi-bin/atm/ATM  \n",
        ">[2] Goldberger, Ary L., et al. \"PhysioBank, PhysioToolkit, and PhysioNet: components of a new research resource for complex physiologic signals.\" Circulation 101.23 (2000): e215-e220.  \n",
        ">[3] Chen, Yanping, et al. \"A general framework for never-ending learning from time series streams.\" Data Mining and Knowledge Discovery 29.6 (2015): 1622-1664.  \n",
        ">[4] http://www.timeseriesclassification.com/description.php?Dataset=ECG5000"
      ]
    },
    {
      "cell_type": "markdown",
      "id": "c84952b8",
      "metadata": {
        "id": "c84952b8"
      },
      "source": [
        "|                 Class name                 | Abbreviation |\n",
        "|:------------------------------------------:|:------------:|\n",
        "|                   Normal                   |       N      |            \n",
        "|  R-on-T premature ventricular contraction  |       r      |             \n",
        "| Supraventricular premature or ectopic beat |       S      |           \n",
        "|      Premature ventricular contraction     |       V      |            \n",
        "|             Unclassifiable beat            |       Q      |      "
      ]
    },
    {
      "cell_type": "markdown",
      "source": [
        "## TODO 1 Load the dataset (2 points)\n",
        "\n",
        "0. Download the ECG5000 dataset on Canvas under the module of [Lab] Applied AI in Healthcare. Put the folder at the same path as your Jupyter code (aka, this file). In other words, th path should be *ECG5000/ECG5000_train.pickle* when loading the data in this file.\n",
        "\n",
        "After my modification, the dataset contains 5000 samples, 500 in training, 1500 in validation, and 3000 for testing. **However, the testing set is unaviliable to you!** The testing set is used to evaluate your model and grading.\n",
        "\n",
        "Your task is to train your model on the training set and evaluate your model on the validation set.\n",
        "\n",
        "1. Load the *ECG5000_train.pickle* and *ECG5000_validation.pickle* file, save the file into variable *ECGdataset*.\n",
        "\n",
        "2. Print out the first Sample, only the first sample.\n",
        "\n",
        "3. What the value of the first feature of the 10-th sample? Print it out.\n",
        "\n",
        "**Note:** The time series length of ECG5000 is 140 which is the feature, the labels is the first column of the dataset array.\n",
        "\n",
        "\n",
        "\n",
        "\n",
        "\n",
        "\n",
        "\n",
        "\n",
        "\n"
      ],
      "metadata": {
        "id": "ina0xQnkr9Um"
      },
      "id": "ina0xQnkr9Um"
    },
    {
      "cell_type": "code",
      "source": [
        "import pickle\n",
        "import matplotlib.pyplot as plt"
      ],
      "metadata": {
        "id": "i8WW6lv2mNEm"
      },
      "id": "i8WW6lv2mNEm",
      "execution_count": null,
      "outputs": []
    },
    {
      "cell_type": "code",
      "execution_count": null,
      "id": "0a9a2b9a",
      "metadata": {
        "id": "0a9a2b9a"
      },
      "outputs": [],
      "source": [
        "with open(\"ECG5000/ECG5000_train.pickle\", \"rb\") as f_train, open(\"ECG5000/ECG5000_validation.pickle\", \"rb\") as f_val:\n",
        "    ECGdataset = {\n",
        "        \"train\": pickle.load(f_train),\n",
        "        \"validation\": pickle.load(f_val)\n",
        "    }"
      ]
    },
    {
      "cell_type": "code",
      "source": [
        "print(ECGdataset[\"train\"].shape)\n",
        "print(ECGdataset[\"validation\"].shape)"
      ],
      "metadata": {
        "colab": {
          "base_uri": "https://localhost:8080/"
        },
        "id": "szhokD8ZlofQ",
        "outputId": "c0475153-04c2-475c-9e1c-f2ce43231f4a"
      },
      "id": "szhokD8ZlofQ",
      "execution_count": null,
      "outputs": [
        {
          "output_type": "stream",
          "name": "stdout",
          "text": [
            "(500, 141)\n",
            "(1500, 141)\n"
          ]
        }
      ]
    },
    {
      "cell_type": "code",
      "source": [
        "ECGdataset[\"train\"].dtype"
      ],
      "metadata": {
        "colab": {
          "base_uri": "https://localhost:8080/"
        },
        "id": "SwD59oXRxGd8",
        "outputId": "d76b84d3-7af0-41ab-b4e8-35323c4eac0b"
      },
      "id": "SwD59oXRxGd8",
      "execution_count": null,
      "outputs": [
        {
          "output_type": "execute_result",
          "data": {
            "text/plain": [
              "dtype('float64')"
            ]
          },
          "metadata": {},
          "execution_count": 4
        }
      ]
    },
    {
      "cell_type": "code",
      "source": [
        "first_sample = ECGdataset[\"train\"][0]\n",
        "first_sample"
      ],
      "metadata": {
        "colab": {
          "base_uri": "https://localhost:8080/"
        },
        "id": "iAi6P58YlrMi",
        "outputId": "9510e970-8d38-4a43-f2cf-f97917ad8eff"
      },
      "id": "iAi6P58YlrMi",
      "execution_count": null,
      "outputs": [
        {
          "output_type": "execute_result",
          "data": {
            "text/plain": [
              "array([ 0.        , -0.11252183, -2.8272038 , -3.7738969 , -4.3497511 ,\n",
              "       -4.376041  , -3.4749863 , -2.1814082 , -1.8182865 , -1.2505219 ,\n",
              "       -0.47749208, -0.36380791, -0.49195659, -0.42185509, -0.30920086,\n",
              "       -0.4959387 , -0.34211867, -0.35533627, -0.36791303, -0.31650279,\n",
              "       -0.41237405, -0.47167181, -0.41345783, -0.36461703, -0.44929829,\n",
              "       -0.47141866, -0.42477658, -0.46251673, -0.55247236, -0.47537519,\n",
              "       -0.6942    , -0.7018681 , -0.59381178, -0.66068415, -0.71383066,\n",
              "       -0.76980688, -0.67228161, -0.65367605, -0.63940562, -0.55930228,\n",
              "       -0.59167032, -0.49322332, -0.46305183, -0.30164382, -0.23273401,\n",
              "       -0.12505488, -0.15394314, -0.0243574 , -0.06560876,  0.03499926,\n",
              "        0.06193522,  0.07119542,  0.12392505,  0.10312371,  0.22522849,\n",
              "        0.12868305,  0.30248315,  0.25727621,  0.19635161,  0.17938297,\n",
              "        0.24472863,  0.34121687,  0.32820441,  0.40604169,  0.44660507,\n",
              "        0.42406823,  0.48151204,  0.4778438 ,  0.62408259,  0.57458456,\n",
              "        0.59801319,  0.5645919 ,  0.607979  ,  0.62063457,  0.65625291,\n",
              "        0.68474806,  0.69427284,  0.66558377,  0.57579577,  0.63813479,\n",
              "        0.61491695,  0.56908343,  0.46857572,  0.44281777,  0.46827436,\n",
              "        0.43249295,  0.40795792,  0.41862256,  0.36253075,  0.41095901,\n",
              "        0.47166633,  0.37216676,  0.33787543,  0.22140511,  0.27399747,\n",
              "        0.29866408,  0.26356357,  0.34256352,  0.41950529,  0.58660736,\n",
              "        0.86062387,  1.1733446 ,  1.2581791 ,  1.4337887 ,  1.7005334 ,\n",
              "        1.9990431 ,  2.1253411 ,  1.9932907 ,  1.9322463 ,  1.7974367 ,\n",
              "        1.5222839 ,  1.2511679 ,  0.99873034,  0.48372242,  0.02313229,\n",
              "       -0.19491383, -0.22091729, -0.24373668, -0.25469462, -0.29113555,\n",
              "       -0.25649034, -0.22787425, -0.32242276, -0.28928586, -0.31816951,\n",
              "       -0.36365359, -0.39345584, -0.26641886, -0.25682316, -0.28869399,\n",
              "       -0.16233755,  0.16034772,  0.79216787,  0.93354122,  0.79695779,\n",
              "        0.57862066,  0.2577399 ,  0.22807718,  0.12343082,  0.92528624,\n",
              "        0.19313742])"
            ]
          },
          "metadata": {},
          "execution_count": 5
        }
      ]
    },
    {
      "cell_type": "code",
      "source": [
        "# Visualize the first sample's feature\n",
        "fig, ax = plt.subplots()\n",
        "ax.plot(first_sample[1:])\n",
        "\n",
        "plt.show()"
      ],
      "metadata": {
        "colab": {
          "base_uri": "https://localhost:8080/",
          "height": 430
        },
        "id": "J7KCVToOzxrT",
        "outputId": "d63d997f-6fa2-40b5-f397-4ec6da95a1f7"
      },
      "id": "J7KCVToOzxrT",
      "execution_count": null,
      "outputs": [
        {
          "output_type": "display_data",
          "data": {
            "text/plain": [
              "<Figure size 640x480 with 1 Axes>"
            ],
            "image/png": "[encoded data removed]"
          },
          "metadata": {}
        }
      ]
    },
    {
      "cell_type": "code",
      "source": [
        "# Get the value of the first feature of the 10-th sample\n",
        "sample_10th_feature = ECGdataset[\"train\"][9]\n",
        "sample_10th_feature[1]  # Index 0 is the label"
      ],
      "metadata": {
        "colab": {
          "base_uri": "https://localhost:8080/"
        },
        "id": "0AdnOLwD0ZLK",
        "outputId": "8334124f-a884-4fc6-a418-ef1bb25ac6bf"
      },
      "id": "0AdnOLwD0ZLK",
      "execution_count": null,
      "outputs": [
        {
          "output_type": "execute_result",
          "data": {
            "text/plain": [
              "np.float64(-0.83228111)"
            ]
          },
          "metadata": {},
          "execution_count": 7
        }
      ]
    },
    {
      "cell_type": "markdown",
      "source": [
        "## TODO 2 Preprocessing (4 points)\n",
        "\n",
        "1. Normalize each sample (features) following the time-dimention, using the *sklearn.preprocessing.StandardScaler* function. Please remember to install and import the *sklearn* library.\n",
        "\n",
        "2. Note, as the training and validation sets are already splitted into two different files, you need to do the preprocessing for them independently (seperately)."
      ],
      "metadata": {
        "id": "8ybNyRGN8WhB"
      },
      "id": "8ybNyRGN8WhB"
    },
    {
      "cell_type": "code",
      "execution_count": null,
      "id": "52fa4a22",
      "metadata": {
        "id": "52fa4a22"
      },
      "outputs": [],
      "source": [
        "from sklearn.preprocessing import StandardScaler"
      ]
    },
    {
      "cell_type": "code",
      "source": [
        "scaler = StandardScaler()\n",
        "\n",
        "# Normalize the training set\n",
        "ECGdataset[\"train\"][:, 1:] = scaler.fit_transform(ECGdataset[\"train\"][:, 1:])\n",
        "\n",
        "# Normalize the validation set\n",
        "ECGdataset[\"validation\"][:, 1:] = scaler.transform(ECGdataset[\"validation\"][:, 1:])"
      ],
      "metadata": {
        "id": "xeUlQkDGU8NI"
      },
      "id": "xeUlQkDGU8NI",
      "execution_count": null,
      "outputs": []
    },
    {
      "cell_type": "code",
      "source": [
        "fig, ax = plt.subplots()\n",
        "ax.plot(ECGdataset[\"train\"][0][1:])\n",
        "\n",
        "plt.show()"
      ],
      "metadata": {
        "colab": {
          "base_uri": "https://localhost:8080/",
          "height": 430
        },
        "id": "G_JDE5r-0bMP",
        "outputId": "cba91a63-02ea-4b04-d179-83f9da6d4d0b"
      },
      "id": "G_JDE5r-0bMP",
      "execution_count": null,
      "outputs": [
        {
          "output_type": "display_data",
          "data": {
            "text/plain": [
              "<Figure size 640x480 with 1 Axes>"
            ],
            "image/png": "[encoded data removed]"
          },
          "metadata": {}
        }
      ]
    },
    {
      "cell_type": "markdown",
      "source": [
        "## TODO 3 Data Splitting (Skip in this lab)\n",
        "\n",
        "1. Generally, you need to randomly split the dataset into two parts and name them as *Training_set* and *Validation_set* .\n",
        "\n",
        "However, as I already split the data for you. **You can skip this TODO**."
      ],
      "metadata": {
        "id": "TsbfP8UX8Xwz"
      },
      "id": "TsbfP8UX8Xwz"
    },
    {
      "cell_type": "markdown",
      "source": [
        "## TODO 4 Train a KNN classifier (4 points)\n",
        "\n",
        "1. Use Sklearn library, train a KNN classifier (set K equals to *5*), feed the *Training_set* to the classifier."
      ],
      "metadata": {
        "id": "_xC5m2BY8Y-r"
      },
      "id": "_xC5m2BY8Y-r"
    },
    {
      "cell_type": "code",
      "source": [
        "from sklearn.neighbors import KNeighborsClassifier\n",
        "from sklearn.model_selection import GridSearchCV"
      ],
      "metadata": {
        "id": "ylXsPfXI2pI-"
      },
      "id": "ylXsPfXI2pI-",
      "execution_count": null,
      "outputs": []
    },
    {
      "cell_type": "code",
      "source": [
        "# Separate features and labels for the training set\n",
        "X_train = ECGdataset[\"train\"][:, 1:]\n",
        "y_train = ECGdataset[\"train\"][:, 0]"
      ],
      "metadata": {
        "id": "YgLK9KGBSyRg"
      },
      "id": "YgLK9KGBSyRg",
      "execution_count": null,
      "outputs": []
    },
    {
      "cell_type": "code",
      "source": [
        "knn_classifier = KNeighborsClassifier(n_neighbors=5)\n",
        "\n",
        "param_grid = {\n",
        "    'weights': ('uniform', 'distance'),\n",
        "    'p': [1, 2, 3, 4],  # Only relevant for 'minkowski'\n",
        "    'metric': ('minkowski', 'chebyshev'),\n",
        "}\n",
        "\n",
        "grid_search = GridSearchCV(knn_classifier, param_grid, cv=5)\n",
        "grid_search.fit(X_train, y_train)\n",
        "\n",
        "grid_search.best_params_"
      ],
      "metadata": {
        "colab": {
          "base_uri": "https://localhost:8080/"
        },
        "id": "qhHSac6MOydn",
        "outputId": "bd6ca21d-b7fd-48b8-aa2f-77c6a89e9af7"
      },
      "id": "qhHSac6MOydn",
      "execution_count": null,
      "outputs": [
        {
          "output_type": "stream",
          "name": "stderr",
          "text": [
            "/usr/local/lib/python3.11/dist-packages/sklearn/model_selection/_split.py:805: UserWarning: The least populated class in y has only 2 members, which is less than n_splits=5.\n",
            "  warnings.warn(\n"
          ]
        },
        {
          "output_type": "execute_result",
          "data": {
            "text/plain": [
              "{'metric': 'minkowski', 'p': 1, 'weights': 'distance'}"
            ]
          },
          "metadata": {},
          "execution_count": 13
        }
      ]
    },
    {
      "cell_type": "code",
      "source": [
        "# Initialize and train the KNN classifier\n",
        "best_params = grid_search.best_params_\n",
        "\n",
        "knn_classifier = KNeighborsClassifier(\n",
        "    n_neighbors=5,\n",
        "    weights=best_params['weights'],\n",
        "    p=best_params['p'],\n",
        "    metric=best_params['metric'],\n",
        ")\n",
        "\n",
        "knn_classifier.fit(X_train, y_train)"
      ],
      "metadata": {
        "id": "LMJfhjz28ZLI",
        "colab": {
          "base_uri": "https://localhost:8080/",
          "height": 80
        },
        "outputId": "e71b4fad-ea7b-463f-f1bc-7394dddd497d"
      },
      "id": "LMJfhjz28ZLI",
      "execution_count": null,
      "outputs": [
        {
          "output_type": "execute_result",
          "data": {
            "text/plain": [
              "KNeighborsClassifier(p=1, weights='distance')"
            ],
            "text/html": [
              "<style>#sk-container-id-1 {\n",
              "  /* Definition of color scheme common for light and dark mode */\n",
              "  --sklearn-color-text: #000;\n",
              "  --sklearn-color-text-muted: #666;\n",
              "  --sklearn-color-line: gray;\n",
              "  /* Definition of color scheme for unfitted estimators */\n",
              "  --sklearn-color-unfitted-level-0: #fff5e6;\n",
              "  --sklearn-color-unfitted-level-1: #f6e4d2;\n",
              "  --sklearn-color-unfitted-level-2: #ffe0b3;\n",
              "  --sklearn-color-unfitted-level-3: chocolate;\n",
              "  /* Definition of color scheme for fitted estimators */\n",
              "  --sklearn-color-fitted-level-0: #f0f8ff;\n",
              "  --sklearn-color-fitted-level-1: #d4ebff;\n",
              "  --sklearn-color-fitted-level-2: #b3dbfd;\n",
              "  --sklearn-color-fitted-level-3: cornflowerblue;\n",
              "\n",
              "  /* Specific color for light theme */\n",
              "  --sklearn-color-text-on-default-background: var(--sg-text-color, var(--theme-code-foreground, var(--jp-content-font-color1, black)));\n",
              "  --sklearn-color-background: var(--sg-background-color, var(--theme-background, var(--jp-layout-color0, white)));\n",
              "  --sklearn-color-border-box: var(--sg-text-color, var(--theme-code-foreground, var(--jp-content-font-color1, black)));\n",
              "  --sklearn-color-icon: #696969;\n",
              "\n",
              "  @media (prefers-color-scheme: dark) {\n",
              "    /* Redefinition of color scheme for dark theme */\n",
              "    --sklearn-color-text-on-default-background: var(--sg-text-color, var(--theme-code-foreground, var(--jp-content-font-color1, white)));\n",
              "    --sklearn-color-background: var(--sg-background-color, var(--theme-background, var(--jp-layout-color0, #111)));\n",
              "    --sklearn-color-border-box: var(--sg-text-color, var(--theme-code-foreground, var(--jp-content-font-color1, white)));\n",
              "    --sklearn-color-icon: #878787;\n",
              "  }\n",
              "}\n",
              "\n",
              "#sk-container-id-1 {\n",
              "  color: var(--sklearn-color-text);\n",
              "}\n",
              "\n",
              "#sk-container-id-1 pre {\n",
              "  padding: 0;\n",
              "}\n",
              "\n",
              "#sk-container-id-1 input.sk-hidden--visually {\n",
              "  border: 0;\n",
              "  clip: rect(1px 1px 1px 1px);\n",
              "  clip: rect(1px, 1px, 1px, 1px);\n",
              "  height: 1px;\n",
              "  margin: -1px;\n",
              "  overflow: hidden;\n",
              "  padding: 0;\n",
              "  position: absolute;\n",
              "  width: 1px;\n",
              "}\n",
              "\n",
              "#sk-container-id-1 div.sk-dashed-wrapped {\n",
              "  border: 1px dashed var(--sklearn-color-line);\n",
              "  margin: 0 0.4em 0.5em 0.4em;\n",
              "  box-sizing: border-box;\n",
              "  padding-bottom: 0.4em;\n",
              "  background-color: var(--sklearn-color-background);\n",
              "}\n",
              "\n",
              "#sk-container-id-1 div.sk-container {\n",
              "  /* jupyter's `normalize.less` sets `[hidden] { display: none; }`\n",
              "     but bootstrap.min.css set `[hidden] { display: none !important; }`\n",
              "     so we also need the `!important` here to be able to override the\n",
              "     default hidden behavior on the sphinx rendered scikit-learn.org.\n",
              "     See: https://github.com/scikit-learn/scikit-learn/issues/21755 */\n",
              "  display: inline-block !important;\n",
              "  position: relative;\n",
              "}\n",
              "\n",
              "#sk-container-id-1 div.sk-text-repr-fallback {\n",
              "  display: none;\n",
              "}\n",
              "\n",
              "div.sk-parallel-item,\n",
              "div.sk-serial,\n",
              "div.sk-item {\n",
              "  /* draw centered vertical line to link estimators */\n",
              "  background-image: linear-gradient(var(--sklearn-color-text-on-default-background), var(--sklearn-color-text-on-default-background));\n",
              "  background-size: 2px 100%;\n",
              "  background-repeat: no-repeat;\n",
              "  background-position: center center;\n",
              "}\n",
              "\n",
              "/* Parallel-specific style estimator block */\n",
              "\n",
              "#sk-container-id-1 div.sk-parallel-item::after {\n",
              "  content: \"\";\n",
              "  width: 100%;\n",
              "  border-bottom: 2px solid var(--sklearn-color-text-on-default-background);\n",
              "  flex-grow: 1;\n",
              "}\n",
              "\n",
              "#sk-container-id-1 div.sk-parallel {\n",
              "  display: flex;\n",
              "  align-items: stretch;\n",
              "  justify-content: center;\n",
              "  background-color: var(--sklearn-color-background);\n",
              "  position: relative;\n",
              "}\n",
              "\n",
              "#sk-container-id-1 div.sk-parallel-item {\n",
              "  display: flex;\n",
              "  flex-direction: column;\n",
              "}\n",
              "\n",
              "#sk-container-id-1 div.sk-parallel-item:first-child::after {\n",
              "  align-self: flex-end;\n",
              "  width: 50%;\n",
              "}\n",
              "\n",
              "#sk-container-id-1 div.sk-parallel-item:last-child::after {\n",
              "  align-self: flex-start;\n",
              "  width: 50%;\n",
              "}\n",
              "\n",
              "#sk-container-id-1 div.sk-parallel-item:only-child::after {\n",
              "  width: 0;\n",
              "}\n",
              "\n",
              "/* Serial-specific style estimator block */\n",
              "\n",
              "#sk-container-id-1 div.sk-serial {\n",
              "  display: flex;\n",
              "  flex-direction: column;\n",
              "  align-items: center;\n",
              "  background-color: var(--sklearn-color-background);\n",
              "  padding-right: 1em;\n",
              "  padding-left: 1em;\n",
              "}\n",
              "\n",
              "\n",
              "/* Toggleable style: style used for estimator/Pipeline/ColumnTransformer box that is\n",
              "clickable and can be expanded/collapsed.\n",
              "- Pipeline and ColumnTransformer use this feature and define the default style\n",
              "- Estimators will overwrite some part of the style using the `sk-estimator` class\n",
              "*/\n",
              "\n",
              "/* Pipeline and ColumnTransformer style (default) */\n",
              "\n",
              "#sk-container-id-1 div.sk-toggleable {\n",
              "  /* Default theme specific background. It is overwritten whether we have a\n",
              "  specific estimator or a Pipeline/ColumnTransformer */\n",
              "  background-color: var(--sklearn-color-background);\n",
              "}\n",
              "\n",
              "/* Toggleable label */\n",
              "#sk-container-id-1 label.sk-toggleable__label {\n",
              "  cursor: pointer;\n",
              "  display: flex;\n",
              "  width: 100%;\n",
              "  margin-bottom: 0;\n",
              "  padding: 0.5em;\n",
              "  box-sizing: border-box;\n",
              "  text-align: center;\n",
              "  align-items: start;\n",
              "  justify-content: space-between;\n",
              "  gap: 0.5em;\n",
              "}\n",
              "\n",
              "#sk-container-id-1 label.sk-toggleable__label .caption {\n",
              "  font-size: 0.6rem;\n",
              "  font-weight: lighter;\n",
              "  color: var(--sklearn-color-text-muted);\n",
              "}\n",
              "\n",
              "#sk-container-id-1 label.sk-toggleable__label-arrow:before {\n",
              "  /* Arrow on the left of the label */\n",
              "  content: \"▸\";\n",
              "  float: left;\n",
              "  margin-right: 0.25em;\n",
              "  color: var(--sklearn-color-icon);\n",
              "}\n",
              "\n",
              "#sk-container-id-1 label.sk-toggleable__label-arrow:hover:before {\n",
              "  color: var(--sklearn-color-text);\n",
              "}\n",
              "\n",
              "/* Toggleable content - dropdown */\n",
              "\n",
              "#sk-container-id-1 div.sk-toggleable__content {\n",
              "  max-height: 0;\n",
              "  max-width: 0;\n",
              "  overflow: hidden;\n",
              "  text-align: left;\n",
              "  /* unfitted */\n",
              "  background-color: var(--sklearn-color-unfitted-level-0);\n",
              "}\n",
              "\n",
              "#sk-container-id-1 div.sk-toggleable__content.fitted {\n",
              "  /* fitted */\n",
              "  background-color: var(--sklearn-color-fitted-level-0);\n",
              "}\n",
              "\n",
              "#sk-container-id-1 div.sk-toggleable__content pre {\n",
              "  margin: 0.2em;\n",
              "  border-radius: 0.25em;\n",
              "  color: var(--sklearn-color-text);\n",
              "  /* unfitted */\n",
              "  background-color: var(--sklearn-color-unfitted-level-0);\n",
              "}\n",
              "\n",
              "#sk-container-id-1 div.sk-toggleable__content.fitted pre {\n",
              "  /* unfitted */\n",
              "  background-color: var(--sklearn-color-fitted-level-0);\n",
              "}\n",
              "\n",
              "#sk-container-id-1 input.sk-toggleable__control:checked~div.sk-toggleable__content {\n",
              "  /* Expand drop-down */\n",
              "  max-height: 200px;\n",
              "  max-width: 100%;\n",
              "  overflow: auto;\n",
              "}\n",
              "\n",
              "#sk-container-id-1 input.sk-toggleable__control:checked~label.sk-toggleable__label-arrow:before {\n",
              "  content: \"▾\";\n",
              "}\n",
              "\n",
              "/* Pipeline/ColumnTransformer-specific style */\n",
              "\n",
              "#sk-container-id-1 div.sk-label input.sk-toggleable__control:checked~label.sk-toggleable__label {\n",
              "  color: var(--sklearn-color-text);\n",
              "  background-color: var(--sklearn-color-unfitted-level-2);\n",
              "}\n",
              "\n",
              "#sk-container-id-1 div.sk-label.fitted input.sk-toggleable__control:checked~label.sk-toggleable__label {\n",
              "  background-color: var(--sklearn-color-fitted-level-2);\n",
              "}\n",
              "\n",
              "/* Estimator-specific style */\n",
              "\n",
              "/* Colorize estimator box */\n",
              "#sk-container-id-1 div.sk-estimator input.sk-toggleable__control:checked~label.sk-toggleable__label {\n",
              "  /* unfitted */\n",
              "  background-color: var(--sklearn-color-unfitted-level-2);\n",
              "}\n",
              "\n",
              "#sk-container-id-1 div.sk-estimator.fitted input.sk-toggleable__control:checked~label.sk-toggleable__label {\n",
              "  /* fitted */\n",
              "  background-color: var(--sklearn-color-fitted-level-2);\n",
              "}\n",
              "\n",
              "#sk-container-id-1 div.sk-label label.sk-toggleable__label,\n",
              "#sk-container-id-1 div.sk-label label {\n",
              "  /* The background is the default theme color */\n",
              "  color: var(--sklearn-color-text-on-default-background);\n",
              "}\n",
              "\n",
              "/* On hover, darken the color of the background */\n",
              "#sk-container-id-1 div.sk-label:hover label.sk-toggleable__label {\n",
              "  color: var(--sklearn-color-text);\n",
              "  background-color: var(--sklearn-color-unfitted-level-2);\n",
              "}\n",
              "\n",
              "/* Label box, darken color on hover, fitted */\n",
              "#sk-container-id-1 div.sk-label.fitted:hover label.sk-toggleable__label.fitted {\n",
              "  color: var(--sklearn-color-text);\n",
              "  background-color: var(--sklearn-color-fitted-level-2);\n",
              "}\n",
              "\n",
              "/* Estimator label */\n",
              "\n",
              "#sk-container-id-1 div.sk-label label {\n",
              "  font-family: monospace;\n",
              "  font-weight: bold;\n",
              "  display: inline-block;\n",
              "  line-height: 1.2em;\n",
              "}\n",
              "\n",
              "#sk-container-id-1 div.sk-label-container {\n",
              "  text-align: center;\n",
              "}\n",
              "\n",
              "/* Estimator-specific */\n",
              "#sk-container-id-1 div.sk-estimator {\n",
              "  font-family: monospace;\n",
              "  border: 1px dotted var(--sklearn-color-border-box);\n",
              "  border-radius: 0.25em;\n",
              "  box-sizing: border-box;\n",
              "  margin-bottom: 0.5em;\n",
              "  /* unfitted */\n",
              "  background-color: var(--sklearn-color-unfitted-level-0);\n",
              "}\n",
              "\n",
              "#sk-container-id-1 div.sk-estimator.fitted {\n",
              "  /* fitted */\n",
              "  background-color: var(--sklearn-color-fitted-level-0);\n",
              "}\n",
              "\n",
              "/* on hover */\n",
              "#sk-container-id-1 div.sk-estimator:hover {\n",
              "  /* unfitted */\n",
              "  background-color: var(--sklearn-color-unfitted-level-2);\n",
              "}\n",
              "\n",
              "#sk-container-id-1 div.sk-estimator.fitted:hover {\n",
              "  /* fitted */\n",
              "  background-color: var(--sklearn-color-fitted-level-2);\n",
              "}\n",
              "\n",
              "/* Specification for estimator info (e.g. \"i\" and \"?\") */\n",
              "\n",
              "/* Common style for \"i\" and \"?\" */\n",
              "\n",
              ".sk-estimator-doc-link,\n",
              "a:link.sk-estimator-doc-link,\n",
              "a:visited.sk-estimator-doc-link {\n",
              "  float: right;\n",
              "  font-size: smaller;\n",
              "  line-height: 1em;\n",
              "  font-family: monospace;\n",
              "  background-color: var(--sklearn-color-background);\n",
              "  border-radius: 1em;\n",
              "  height: 1em;\n",
              "  width: 1em;\n",
              "  text-decoration: none !important;\n",
              "  margin-left: 0.5em;\n",
              "  text-align: center;\n",
              "  /* unfitted */\n",
              "  border: var(--sklearn-color-unfitted-level-1) 1pt solid;\n",
              "  color: var(--sklearn-color-unfitted-level-1);\n",
              "}\n",
              "\n",
              ".sk-estimator-doc-link.fitted,\n",
              "a:link.sk-estimator-doc-link.fitted,\n",
              "a:visited.sk-estimator-doc-link.fitted {\n",
              "  /* fitted */\n",
              "  border: var(--sklearn-color-fitted-level-1) 1pt solid;\n",
              "  color: var(--sklearn-color-fitted-level-1);\n",
              "}\n",
              "\n",
              "/* On hover */\n",
              "div.sk-estimator:hover .sk-estimator-doc-link:hover,\n",
              ".sk-estimator-doc-link:hover,\n",
              "div.sk-label-container:hover .sk-estimator-doc-link:hover,\n",
              ".sk-estimator-doc-link:hover {\n",
              "  /* unfitted */\n",
              "  background-color: var(--sklearn-color-unfitted-level-3);\n",
              "  color: var(--sklearn-color-background);\n",
              "  text-decoration: none;\n",
              "}\n",
              "\n",
              "div.sk-estimator.fitted:hover .sk-estimator-doc-link.fitted:hover,\n",
              ".sk-estimator-doc-link.fitted:hover,\n",
              "div.sk-label-container:hover .sk-estimator-doc-link.fitted:hover,\n",
              ".sk-estimator-doc-link.fitted:hover {\n",
              "  /* fitted */\n",
              "  background-color: var(--sklearn-color-fitted-level-3);\n",
              "  color: var(--sklearn-color-background);\n",
              "  text-decoration: none;\n",
              "}\n",
              "\n",
              "/* Span, style for the box shown on hovering the info icon */\n",
              ".sk-estimator-doc-link span {\n",
              "  display: none;\n",
              "  z-index: 9999;\n",
              "  position: relative;\n",
              "  font-weight: normal;\n",
              "  right: .2ex;\n",
              "  padding: .5ex;\n",
              "  margin: .5ex;\n",
              "  width: min-content;\n",
              "  min-width: 20ex;\n",
              "  max-width: 50ex;\n",
              "  color: var(--sklearn-color-text);\n",
              "  box-shadow: 2pt 2pt 4pt #999;\n",
              "  /* unfitted */\n",
              "  background: var(--sklearn-color-unfitted-level-0);\n",
              "  border: .5pt solid var(--sklearn-color-unfitted-level-3);\n",
              "}\n",
              "\n",
              ".sk-estimator-doc-link.fitted span {\n",
              "  /* fitted */\n",
              "  background: var(--sklearn-color-fitted-level-0);\n",
              "  border: var(--sklearn-color-fitted-level-3);\n",
              "}\n",
              "\n",
              ".sk-estimator-doc-link:hover span {\n",
              "  display: block;\n",
              "}\n",
              "\n",
              "/* \"?\"-specific style due to the `<a>` HTML tag */\n",
              "\n",
              "#sk-container-id-1 a.estimator_doc_link {\n",
              "  float: right;\n",
              "  font-size: 1rem;\n",
              "  line-height: 1em;\n",
              "  font-family: monospace;\n",
              "  background-color: var(--sklearn-color-background);\n",
              "  border-radius: 1rem;\n",
              "  height: 1rem;\n",
              "  width: 1rem;\n",
              "  text-decoration: none;\n",
              "  /* unfitted */\n",
              "  color: var(--sklearn-color-unfitted-level-1);\n",
              "  border: var(--sklearn-color-unfitted-level-1) 1pt solid;\n",
              "}\n",
              "\n",
              "#sk-container-id-1 a.estimator_doc_link.fitted {\n",
              "  /* fitted */\n",
              "  border: var(--sklearn-color-fitted-level-1) 1pt solid;\n",
              "  color: var(--sklearn-color-fitted-level-1);\n",
              "}\n",
              "\n",
              "/* On hover */\n",
              "#sk-container-id-1 a.estimator_doc_link:hover {\n",
              "  /* unfitted */\n",
              "  background-color: var(--sklearn-color-unfitted-level-3);\n",
              "  color: var(--sklearn-color-background);\n",
              "  text-decoration: none;\n",
              "}\n",
              "\n",
              "#sk-container-id-1 a.estimator_doc_link.fitted:hover {\n",
              "  /* fitted */\n",
              "  background-color: var(--sklearn-color-fitted-level-3);\n",
              "}\n",
              "</style><div id=\"sk-container-id-1\" class=\"sk-top-container\"><div class=\"sk-text-repr-fallback\"><pre>KNeighborsClassifier(p=1, weights=&#x27;distance&#x27;)</pre><b>In a Jupyter environment, please rerun this cell to show the HTML representation or trust the notebook. <br />On GitHub, the HTML representation is unable to render, please try loading this page with nbviewer.org.</b></div><div class=\"sk-container\" hidden><div class=\"sk-item\"><div class=\"sk-estimator fitted sk-toggleable\"><input class=\"sk-toggleable__control sk-hidden--visually\" id=\"sk-estimator-id-1\" type=\"checkbox\" checked><label for=\"sk-estimator-id-1\" class=\"sk-toggleable__label fitted sk-toggleable__label-arrow\"><div><div>KNeighborsClassifier</div></div><div><a class=\"sk-estimator-doc-link fitted\" rel=\"noreferrer\" target=\"_blank\" href=\"https://scikit-learn.org/1.6/modules/generated/sklearn.neighbors.KNeighborsClassifier.html\">?<span>Documentation for KNeighborsClassifier</span></a><span class=\"sk-estimator-doc-link fitted\">i<span>Fitted</span></span></div></label><div class=\"sk-toggleable__content fitted\"><pre>KNeighborsClassifier(p=1, weights=&#x27;distance&#x27;)</pre></div> </div></div></div></div>"
            ]
          },
          "metadata": {},
          "execution_count": 14
        }
      ]
    },
    {
      "cell_type": "markdown",
      "source": [
        "## TODO 5 Validate the classifier (8 points)\n",
        "\n",
        "\n",
        "1. Use the trained classifier to predict the classes of the *Validation_set* .\n",
        "\n",
        "2. Print out the Accuracy, Precision, Recall, F1 score, AUROC, confusion matrix. For the matrix (except confusion matrix),keep 4 digits (such as 0.9856).\n",
        "\n",
        "3. Create a list, named *model_performance_knn* with 5 elements, which are Accuracy, Precision, Recall, F1 score, AUROC, respectively. Create a numpy array named *cf_matrix* to store the confusion matrix.\n",
        "\n"
      ],
      "metadata": {
        "id": "54xLvhSl8ZRn"
      },
      "id": "54xLvhSl8ZRn"
    },
    {
      "cell_type": "code",
      "source": [
        "from sklearn.metrics import accuracy_score, precision_score, recall_score, f1_score, roc_auc_score, confusion_matrix"
      ],
      "metadata": {
        "id": "T8kLhw3b22e6"
      },
      "id": "T8kLhw3b22e6",
      "execution_count": null,
      "outputs": []
    },
    {
      "cell_type": "code",
      "source": [
        "X_val = ECGdataset[\"validation\"][:, 1:]\n",
        "y_val = ECGdataset[\"validation\"][:, 0]\n",
        "\n",
        "y_pred = knn_classifier.predict(X_val)\n",
        "y_prob = knn_classifier.predict_proba(X_val)"
      ],
      "metadata": {
        "id": "y0hMpWV68ZXX"
      },
      "id": "y0hMpWV68ZXX",
      "execution_count": null,
      "outputs": []
    },
    {
      "cell_type": "code",
      "source": [
        "# Calculate metrics\n",
        "accuracy = accuracy_score(y_val, y_pred)\n",
        "precision = precision_score(y_val, y_pred, average='macro')\n",
        "recall = recall_score(y_val, y_pred, average='macro')\n",
        "f1 = f1_score(y_val, y_pred, average='macro')\n",
        "auroc = roc_auc_score(y_val, y_prob, average='macro', multi_class='ovr')\n",
        "conf_matrix = confusion_matrix(y_val, y_pred)"
      ],
      "metadata": {
        "id": "jz9bu4Qp3Lec"
      },
      "id": "jz9bu4Qp3Lec",
      "execution_count": null,
      "outputs": []
    },
    {
      "cell_type": "code",
      "source": [
        "print(\"Accuracy: {:.4f}\".format(accuracy))\n",
        "print(\"Precision (macro): {:.4f}\".format(precision))\n",
        "print(\"Recall (macro): {:.4f}\".format(recall))\n",
        "print(\"F1 Score (macro): {:.4f}\".format(f1))\n",
        "print(\"AUROC (macro, ovr): {:.4f}\".format(auroc))\n",
        "print(\"Confusion Matrix:\")\n",
        "print(conf_matrix)"
      ],
      "metadata": {
        "colab": {
          "base_uri": "https://localhost:8080/"
        },
        "id": "vTjgr5lL3cD7",
        "outputId": "527aaa29-71dc-4ce2-cd67-9b65880d6f56"
      },
      "id": "vTjgr5lL3cD7",
      "execution_count": null,
      "outputs": [
        {
          "output_type": "stream",
          "name": "stdout",
          "text": [
            "Accuracy: 0.9260\n",
            "Precision (macro): 0.8367\n",
            "Recall (macro): 0.5481\n",
            "F1 Score (macro): 0.5954\n",
            "AUROC (macro, ovr): 0.8171\n",
            "Confusion Matrix:\n",
            "[[778   1   0   2   0]\n",
            " [ 12 567   2   9   0]\n",
            " [  9  17  12   5   0]\n",
            " [  8  33   3  31   0]\n",
            " [  4   4   1   1   1]]\n"
          ]
        }
      ]
    },
    {
      "cell_type": "code",
      "source": [
        "model_performance_knn = [accuracy, precision, recall, f1, auroc]\n",
        "model_performance_knn = [round(item, 4) for item in model_performance_knn]\n",
        "model_performance_knn"
      ],
      "metadata": {
        "colab": {
          "base_uri": "https://localhost:8080/"
        },
        "id": "GtZy-7c36n8U",
        "outputId": "4a14d71f-7c99-4c66-fc15-ebac96b142fa"
      },
      "id": "GtZy-7c36n8U",
      "execution_count": null,
      "outputs": [
        {
          "output_type": "execute_result",
          "data": {
            "text/plain": [
              "[0.926, 0.8367, 0.5481, 0.5954, np.float64(0.8171)]"
            ]
          },
          "metadata": {},
          "execution_count": 19
        }
      ]
    },
    {
      "cell_type": "code",
      "source": [
        "cf_matrix = conf_matrix"
      ],
      "metadata": {
        "id": "aY5PWxcC8Bf3"
      },
      "id": "aY5PWxcC8Bf3",
      "execution_count": null,
      "outputs": []
    },
    {
      "cell_type": "markdown",
      "source": [
        "## TODO 6 Visulize the confusion matrix (2 points)\n",
        "\n",
        "1. Use *seaborn* library to visualize the confusion matrix using *heatmap*. The labels should contain the counts and percentage.\n",
        "\n",
        "2. FYI, you may check how to use seaborn to draw heatmap at https://medium.com/@dtuk81/confusion-matrix-visualization-fc31e3f30fea"
      ],
      "metadata": {
        "id": "bhrwzFxr8ZdQ"
      },
      "id": "bhrwzFxr8ZdQ"
    },
    {
      "cell_type": "code",
      "execution_count": null,
      "id": "c54607fd",
      "metadata": {
        "id": "c54607fd",
        "colab": {
          "base_uri": "https://localhost:8080/",
          "height": 449
        },
        "outputId": "1d0e379c-f421-425b-f7a2-32581e7e4f69"
      },
      "outputs": [
        {
          "output_type": "display_data",
          "data": {
            "text/plain": [
              "<Figure size 640x480 with 2 Axes>"
            ],
            "image/png": "[encoded data removed]"
          },
          "metadata": {}
        }
      ],
      "source": [
        "import seaborn as sns\n",
        "import numpy as np\n",
        "\n",
        "plt.figure(dpi=100)\n",
        "\n",
        "group_counts = [\"{0:0.0f}\".format(value) for value in cf_matrix.flatten()]\n",
        "group_percentages = [\"{0:.2%}\".format(value) for value in cf_matrix.flatten()/np.sum(cf_matrix)]\n",
        "labels = [f\"{v1}\\n{v2}\" for v1, v2, in zip(group_counts,group_percentages)]\n",
        "labels = np.asarray(labels).reshape(5,5)\n",
        "sns.heatmap(cf_matrix, annot=labels, fmt='', cmap='Blues')\n",
        "\n",
        "plt.xlabel('Predicted Labels')\n",
        "plt.ylabel('True Labels')\n",
        "\n",
        "plt.show()"
      ]
    }
  ],
  "metadata": {
    "kernelspec": {
      "display_name": "Python 3 (ipykernel)",
      "language": "python",
      "name": "python3"
    },
    "language_info": {
      "codemirror_mode": {
        "name": "ipython",
        "version": 3
      },
      "file_extension": ".py",
      "mimetype": "text/x-python",
      "name": "python",
      "nbconvert_exporter": "python",
      "pygments_lexer": "ipython3",
      "version": "3.9.12"
    },
    "toc": {
      "base_numbering": 1,
      "nav_menu": {},
      "number_sections": true,
      "sideBar": true,
      "skip_h1_title": false,
      "title_cell": "Table of Contents",
      "title_sidebar": "Contents",
      "toc_cell": false,
      "toc_position": {},
      "toc_section_display": true,
      "toc_window_display": false
    },
    "colab": {
      "provenance": [],
      "toc_visible": true
    }
  },
  "nbformat": 4,
  "nbformat_minor": 5
}